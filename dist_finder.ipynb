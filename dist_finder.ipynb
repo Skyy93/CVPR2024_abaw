{
 "cells": [
  {
   "cell_type": "code",
   "execution_count": 1,
   "id": "7aa9621e-0298-420b-98fd-6129455598ab",
   "metadata": {},
   "outputs": [],
   "source": [
    "import torch\n",
    "from PIL import Image\n",
    "import numpy as np\n",
    "import os\n",
    "import open_clip\n",
    "import pandas as pd\n",
    "from tqdm import tqdm"
   ]
  },
  {
   "cell_type": "code",
   "execution_count": 2,
   "id": "1dcdcc98-c15e-4d99-9b8c-387ef0a748c6",
   "metadata": {},
   "outputs": [],
   "source": [
    "model, _, preprocess = open_clip.create_model_and_transforms('ViT-B-32', pretrained='laion2b_s34b_b79k')\n",
    "device = 'cuda'\n",
    "model = model.to(device)\n",
    "\n",
    "\n",
    "def process_folder(folder_path):\n",
    "    embeddings = []\n",
    "    file_names = []\n",
    "    \n",
    "    # Load and process each image\n",
    "    for img_file in os.listdir(folder_path):\n",
    "        if img_file.lower().endswith(('.png', '.jpg', '.jpeg', '.bmp', '.gif')):\n",
    "            img_path = os.path.join(folder_path, img_file)\n",
    "            image = Image.open(img_path)\n",
    "            image = preprocess(image).unsqueeze(0).to(device)\n",
    "            \n",
    "            # Generate embedding\n",
    "            with torch.no_grad():\n",
    "                embedding = model.encode_image(image)\n",
    "            embeddings.append(embedding.squeeze(0))\n",
    "            file_names.append(img_file)\n",
    "    \n",
    "    # Convert list of embeddings to a tensor\n",
    "    embeddings_tensor = torch.stack(embeddings)\n",
    "\n",
    "    # Normalize embeddings to unit vectors\n",
    "    embeddings_norm = embeddings_tensor / embeddings_tensor.norm(dim=1, keepdim=True)\n",
    "\n",
    "    # Compute pairwise cosine similarity as matrix multiplication of normalized embeddings\n",
    "    cosine_sim_matrix = embeddings_norm @ embeddings_norm.T\n",
    "\n",
    "    # Fill diagonal with zeros to exclude self-similarity\n",
    "    cosine_sim_matrix.fill_diagonal_(0)\n",
    "\n",
    "    # Calculate the average similarity for each embedding to all others\n",
    "    average_similarities = cosine_sim_matrix.mean(dim=1)\n",
    "\n",
    "    # Sort files by average similarity (lower similarity first, indicating greater distance)\n",
    "    sorted_indices = average_similarities.argsort()\n",
    "    sorted_files = [file_names[i] for i in sorted_indices]\n",
    "\n",
    "    # Sorted average similarities can be used as a measure of distance (lower = more distant)\n",
    "    sorted_distances = [average_similarities[i].item() for i in sorted_indices]\n",
    "    \n",
    "    return sorted_files, sorted_distances\n"
   ]
  },
  {
   "cell_type": "code",
   "execution_count": null,
   "id": "4f538ad1-51e8-4a91-88fb-ec29f87f1b75",
   "metadata": {},
   "outputs": [
    {
     "name": "stderr",
     "output_type": "stream",
     "text": [
      " 41%|█████████████████████████████████████████████████████████████████████▌                                                                                                    | 5180/12660 [29:19<1:06:37,  1.87it/s]"
     ]
    }
   ],
   "source": [
    "main_folder = \"data/face_images\"\n",
    "csv_file_path = \"data/sorted_images.csv\"\n",
    "\n",
    "data = []  # Initialize an empty list to store data\n",
    "\n",
    "for subfolder in tqdm(os.listdir(main_folder)):\n",
    "    folder_path = os.path.join(main_folder, subfolder)\n",
    "    if os.path.isdir(folder_path):\n",
    "        sorted_files, sorted_distances = process_folder(folder_path)\n",
    "\n",
    "        # Append data for each file to the list\n",
    "        for file_name, distance in zip(sorted_files, sorted_distances):\n",
    "            data.append({\n",
    "                \"Folder\": subfolder,\n",
    "                \"File Name\": file_name,\n",
    "                \"Similarity\": distance  \n",
    "            })\n",
    "\n",
    "# Convert the list of dictionaries to a DataFrame\n",
    "df = pd.DataFrame(data)"
   ]
  },
  {
   "cell_type": "code",
   "execution_count": null,
   "id": "d04d1f9f-13cd-4f36-b6e1-a2d177bc3c07",
   "metadata": {},
   "outputs": [],
   "source": [
    "df.head()"
   ]
  },
  {
   "cell_type": "code",
   "execution_count": null,
   "id": "dabca836-db30-4500-ac69-6b03f237d228",
   "metadata": {},
   "outputs": [],
   "source": []
  }
 ],
 "metadata": {
  "kernelspec": {
   "display_name": "Python 3 (ipykernel)",
   "language": "python",
   "name": "python3"
  },
  "language_info": {
   "codemirror_mode": {
    "name": "ipython",
    "version": 3
   },
   "file_extension": ".py",
   "mimetype": "text/x-python",
   "name": "python",
   "nbconvert_exporter": "python",
   "pygments_lexer": "ipython3",
   "version": "3.11.5"
  }
 },
 "nbformat": 4,
 "nbformat_minor": 5
}
